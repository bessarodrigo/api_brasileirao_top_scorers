{
 "cells": [
  {
   "cell_type": "code",
   "execution_count": 1,
   "id": "37ed8879-270d-4a21-bfa4-f40a65bf9757",
   "metadata": {},
   "outputs": [],
   "source": [
    "import requests\n",
    "import pandas as pd"
   ]
  },
  {
   "cell_type": "code",
   "execution_count": 2,
   "id": "a3d901b6-89e5-47cd-8f37-8b6c3bf9e248",
   "metadata": {},
   "outputs": [],
   "source": [
    "# Configurações da API\n",
    "URL_ARTILHEIROS = \"https://v3.football.api-sports.io/players/topscorers\"\n",
    "API_KEY = \"API_KEY\""
   ]
  },
  {
   "cell_type": "code",
   "execution_count": 3,
   "id": "884669c8-450d-4ece-97cd-4322bb565a35",
   "metadata": {},
   "outputs": [],
   "source": [
    "# Parâmetros para a requisição\n",
    "PARAMS = {\n",
    "    \"season\": \"2022\",  # Temporada de interesse\n",
    "    \"league\": \"71\"     # Liga de interesse (ID da liga, ex.: Brasileirao)\n",
    "}\n",
    "\n",
    "# Cabeçalhos para autenticação\n",
    "HEADERS = {\n",
    "    \"x-rapidapi-host\": \"v3.football.api-sports.io\",\n",
    "    \"x-rapidapi-key\": API_KEY\n",
    "}"
   ]
  },
  {
   "cell_type": "code",
   "execution_count": 4,
   "id": "cdf16b6b-a934-41f2-b7a5-59c150865055",
   "metadata": {},
   "outputs": [],
   "source": [
    "# Requisição à API\n",
    "response = requests.get(URL_ARTILHEIROS, headers=HEADERS, params=PARAMS)"
   ]
  },
  {
   "cell_type": "code",
   "execution_count": 5,
   "id": "660c2120-4363-4f52-9349-c9dd092eb8e7",
   "metadata": {},
   "outputs": [
    {
     "name": "stdout",
     "output_type": "stream",
     "text": [
      "Nenhum artilheiro encontrado.\n"
     ]
    }
   ],
   "source": [
    "# Verificação do status da resposta\n",
    "if response.status_code == 200:\n",
    "    # Parseando o JSON retornado\n",
    "    data = response.json()\n",
    "    \n",
    "    # Verificando o campo \"response\"\n",
    "    df_artilheiros = data.get(\"response\", [])\n",
    "    \n",
    "    if df_artilheiros:\n",
    "        print(f\"Artilheiros encontrados: {len(df_artilheiros)}\\n\")\n",
    "        \n",
    "        # Criando uma lista para armazenar os dados\n",
    "        players_data = []\n",
    "        \n",
    "        # Extraindo informações de cada jogador\n",
    "        for player in df_artilheiros: \n",
    "            player_info = player.get(\"player\", {})\n",
    "            statistics = player.get(\"statistics\", [{}])[0]\n",
    "            team = statistics.get(\"team\", {})\n",
    "            goals = statistics.get(\"goals\", {})\n",
    "            \n",
    "            # Adicionando os dados a uma lista como dicionário\n",
    "            players_data.append({\n",
    "                \"Nome\": player_info.get(\"name\", \"N/A\"),\n",
    "                \"Time\": team.get(\"name\", \"N/A\"),\n",
    "                \"Gols\": goals.get(\"total\", 0),\n",
    "                \"Idade\": player_info.get(\"age\", \"N/A\"),\n",
    "                \"Nacionalidade\": player_info.get(\"nationality\", \"N/A\"),\n",
    "                \"Partidas\": statistics.get(\"games\", {}).get(\"appearences\", 0),\n",
    "                \"Minutos Jogados\": statistics.get(\"games\", {}).get(\"minutes\", 0),\n",
    "                \"Posição\": player_info.get(\"position\", \"N/A\"),\n",
    "            })\n",
    "        \n",
    "        # Criando o DataFrame\n",
    "        df_artilheiros = pd.DataFrame(players_data)\n",
    "        \n",
    "        # Exibindo as primeiras linhas do DataFrame\n",
    "        print(df_artilheiros.head(31))\n",
    "    else:\n",
    "        print(\"Nenhum artilheiro encontrado.\")\n",
    "else:\n",
    "    print(f\"Erro na requisição: {response.status_code}\")\n",
    "    print(\"Detalhes:\", response.text)"
   ]
  },
  {
   "cell_type": "code",
   "execution_count": 6,
   "id": "75e7e810-e8c3-4ddb-94f8-99e985a77701",
   "metadata": {},
   "outputs": [
    {
     "ename": "AttributeError",
     "evalue": "'list' object has no attribute 'reset_index'",
     "output_type": "error",
     "traceback": [
      "\u001b[0;31m---------------------------------------------------------------------------\u001b[0m",
      "\u001b[0;31mAttributeError\u001b[0m                            Traceback (most recent call last)",
      "Cell \u001b[0;32mIn[6], line 2\u001b[0m\n\u001b[1;32m      1\u001b[0m \u001b[38;5;66;03m# Resetando o índice para começar com 1\u001b[39;00m\n\u001b[0;32m----> 2\u001b[0m \u001b[43mdf_artilheiros\u001b[49m\u001b[38;5;241;43m.\u001b[39;49m\u001b[43mreset_index\u001b[49m(drop\u001b[38;5;241m=\u001b[39m\u001b[38;5;28;01mTrue\u001b[39;00m, inplace\u001b[38;5;241m=\u001b[39m\u001b[38;5;28;01mTrue\u001b[39;00m)\n\u001b[1;32m      4\u001b[0m \u001b[38;5;66;03m# Ajustando o índice para começar com 1\u001b[39;00m\n\u001b[1;32m      5\u001b[0m df_artilheiros\u001b[38;5;241m.\u001b[39mindex \u001b[38;5;241m+\u001b[39m\u001b[38;5;241m=\u001b[39m \u001b[38;5;241m1\u001b[39m\n",
      "\u001b[0;31mAttributeError\u001b[0m: 'list' object has no attribute 'reset_index'"
     ]
    }
   ],
   "source": [
    "# Resetando o índice para começar com 1\n",
    "df_artilheiros.reset_index(drop=True, inplace=True)\n",
    "\n",
    "# Ajustando o índice para começar com 1\n",
    "df_artilheiros.index += 1\n",
    "\n",
    "\n",
    "df_artilheiros"
   ]
  },
  {
   "cell_type": "code",
   "execution_count": null,
   "id": "a3defbaf-92b9-4f63-9789-594dfffc7587",
   "metadata": {},
   "outputs": [],
   "source": [
    "# Adicionando a coluna \"Tempo por Gol\" ao DataFrame\n",
    "df_artilheiros['Tempo por Gol'] = df_artilheiros.apply(\n",
    "    lambda row: row['Minutos Jogados'] / row['Gols'] if row['Gols'] > 0 else None, axis=1\n",
    ")\n",
    "\n",
    "# Exibindo o DataFrame com a nova coluna\n",
    "df_artilheiros"
   ]
  },
  {
   "cell_type": "code",
   "execution_count": null,
   "id": "3f20e8f8-5587-4a1a-a76e-8a17dcdac6ec",
   "metadata": {},
   "outputs": [],
   "source": [
    "# Exportando o DataFrame para um arquivo Excel\n",
    "# df_artilheiros.to_excel('artilheiros_brasileirao_2022.xlsx', index=False, engine='openpyxl')\n",
    "\n",
    "# Mensagem de confirmação\n",
    "print(\"DataFrame exportado com sucesso para 'artilheiros.xlsx'\")"
   ]
  }
 ],
 "metadata": {
  "kernelspec": {
   "display_name": "Python 3 (ipykernel)",
   "language": "python",
   "name": "python3"
  },
  "language_info": {
   "codemirror_mode": {
    "name": "ipython",
    "version": 3
   },
   "file_extension": ".py",
   "mimetype": "text/x-python",
   "name": "python",
   "nbconvert_exporter": "python",
   "pygments_lexer": "ipython3",
   "version": "3.8.10"
  }
 },
 "nbformat": 4,
 "nbformat_minor": 5
}
